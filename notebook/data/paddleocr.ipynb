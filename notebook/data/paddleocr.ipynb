{
 "cells": [
  {
   "cell_type": "code",
   "execution_count": 31,
   "metadata": {},
   "outputs": [
    {
     "name": "stdout",
     "output_type": "stream",
     "text": [
      "Requirement already satisfied: paddlepaddle in /Users/rohansridhar/miniforge3/envs/google/lib/python3.8/site-packages (2.6.0)\n",
      "Requirement already satisfied: httpx in /Users/rohansridhar/miniforge3/envs/google/lib/python3.8/site-packages (from paddlepaddle) (0.26.0)\n",
      "Requirement already satisfied: numpy>=1.13 in /Users/rohansridhar/miniforge3/envs/google/lib/python3.8/site-packages (from paddlepaddle) (1.24.3)\n",
      "Requirement already satisfied: Pillow in /Users/rohansridhar/miniforge3/envs/google/lib/python3.8/site-packages (from paddlepaddle) (10.2.0)\n",
      "Requirement already satisfied: decorator in /Users/rohansridhar/miniforge3/envs/google/lib/python3.8/site-packages (from paddlepaddle) (5.1.1)\n",
      "Requirement already satisfied: astor in /Users/rohansridhar/miniforge3/envs/google/lib/python3.8/site-packages (from paddlepaddle) (0.8.1)\n",
      "Requirement already satisfied: opt-einsum==3.3.0 in /Users/rohansridhar/miniforge3/envs/google/lib/python3.8/site-packages (from paddlepaddle) (3.3.0)\n",
      "Requirement already satisfied: protobuf>=3.20.2 in /Users/rohansridhar/miniforge3/envs/google/lib/python3.8/site-packages (from paddlepaddle) (4.25.2)\n",
      "Requirement already satisfied: anyio in /Users/rohansridhar/miniforge3/envs/google/lib/python3.8/site-packages (from httpx->paddlepaddle) (4.2.0)\n",
      "Requirement already satisfied: certifi in /Users/rohansridhar/miniforge3/envs/google/lib/python3.8/site-packages (from httpx->paddlepaddle) (2023.11.17)\n",
      "Requirement already satisfied: httpcore==1.* in /Users/rohansridhar/miniforge3/envs/google/lib/python3.8/site-packages (from httpx->paddlepaddle) (1.0.2)\n",
      "Requirement already satisfied: idna in /Users/rohansridhar/miniforge3/envs/google/lib/python3.8/site-packages (from httpx->paddlepaddle) (3.6)\n",
      "Requirement already satisfied: sniffio in /Users/rohansridhar/miniforge3/envs/google/lib/python3.8/site-packages (from httpx->paddlepaddle) (1.3.0)\n",
      "Requirement already satisfied: h11<0.15,>=0.13 in /Users/rohansridhar/miniforge3/envs/google/lib/python3.8/site-packages (from httpcore==1.*->httpx->paddlepaddle) (0.14.0)\n",
      "Requirement already satisfied: exceptiongroup>=1.0.2 in /Users/rohansridhar/miniforge3/envs/google/lib/python3.8/site-packages (from anyio->httpx->paddlepaddle) (1.2.0)\n",
      "Requirement already satisfied: typing-extensions>=4.1 in /Users/rohansridhar/miniforge3/envs/google/lib/python3.8/site-packages (from anyio->httpx->paddlepaddle) (4.5.0)\n"
     ]
    }
   ],
   "source": [
    "!python -m pip install paddlepaddle "
   ]
  },
  {
   "cell_type": "code",
   "execution_count": 32,
   "metadata": {},
   "outputs": [],
   "source": [
    "# !pip install --upgrade paddle paddleocr\n"
   ]
  },
  {
   "cell_type": "code",
   "execution_count": 33,
   "metadata": {},
   "outputs": [],
   "source": [
    "import paddleocr\n",
    "from paddleocr import PaddleOCR,draw_ocr #main ocr dependencies\n",
    "import cv2 \n",
    "import os\n",
    "\n"
   ]
  },
  {
   "cell_type": "code",
   "execution_count": 34,
   "metadata": {},
   "outputs": [
    {
     "name": "stdout",
     "output_type": "stream",
     "text": [
      "[2024/01/25 20:49:49] ppocr DEBUG: Namespace(alpha=1.0, alphacolor=(255, 255, 255), benchmark=False, beta=1.0, binarize=False, cls_batch_num=6, cls_image_shape='3, 48, 192', cls_model_dir='/Users/rohansridhar/.paddleocr/whl/cls/ch_ppocr_mobile_v2.0_cls_infer', cls_thresh=0.9, cpu_threads=10, crop_res_save_dir='./output', det=True, det_algorithm='DB', det_box_type='quad', det_db_box_thresh=0.6, det_db_score_mode='fast', det_db_thresh=0.3, det_db_unclip_ratio=1.5, det_east_cover_thresh=0.1, det_east_nms_thresh=0.2, det_east_score_thresh=0.8, det_limit_side_len=960, det_limit_type='max', det_model_dir='/Users/rohansridhar/.paddleocr/whl/det/en/en_PP-OCRv3_det_infer', det_pse_box_thresh=0.85, det_pse_min_area=16, det_pse_scale=1, det_pse_thresh=0, det_sast_nms_thresh=0.2, det_sast_score_thresh=0.5, draw_img_save_dir='./inference_results', drop_score=0.5, e2e_algorithm='PGNet', e2e_char_dict_path='./ppocr/utils/ic15_dict.txt', e2e_limit_side_len=768, e2e_limit_type='max', e2e_model_dir=None, e2e_pgnet_mode='fast', e2e_pgnet_score_thresh=0.5, e2e_pgnet_valid_set='totaltext', enable_mkldnn=False, fourier_degree=5, gpu_id=0, gpu_mem=500, help='==SUPPRESS==', image_dir=None, image_orientation=False, invert=False, ir_optim=True, kie_algorithm='LayoutXLM', label_list=['0', '180'], lang='en', layout=True, layout_dict_path=None, layout_model_dir=None, layout_nms_threshold=0.5, layout_score_threshold=0.5, max_batch_size=10, max_text_length=25, merge_no_span_structure=True, min_subgraph_size=15, mode='structure', ocr=True, ocr_order_method=None, ocr_version='PP-OCRv4', output='./output', page_num=0, precision='fp32', process_id=0, re_model_dir=None, rec=True, rec_algorithm='SVTR_LCNet', rec_batch_num=6, rec_char_dict_path='/Users/rohansridhar/miniforge3/envs/google/lib/python3.8/site-packages/paddleocr/ppocr/utils/en_dict.txt', rec_image_inverse=True, rec_image_shape='3, 48, 320', rec_model_dir='/Users/rohansridhar/.paddleocr/whl/rec/en/en_PP-OCRv4_rec_infer', recovery=False, save_crop_res=False, save_log_path='./log_output/', scales=[8, 16, 32], ser_dict_path='../train_data/XFUND/class_list_xfun.txt', ser_model_dir=None, show_log=True, sr_batch_num=1, sr_image_shape='3, 32, 128', sr_model_dir=None, structure_version='PP-StructureV2', table=True, table_algorithm='TableAttn', table_char_dict_path=None, table_max_len=488, table_model_dir=None, total_process_num=1, type='ocr', use_angle_cls=False, use_dilation=False, use_gpu=False, use_mp=False, use_npu=False, use_onnx=False, use_pdf2docx_api=False, use_pdserving=False, use_space_char=True, use_tensorrt=False, use_visual_backbone=True, use_xpu=False, vis_font_path='./doc/fonts/simfang.ttf', warmup=False)\n"
     ]
    }
   ],
   "source": [
    "ocr_model=PaddleOCR(lang='en') #instantiate model "
   ]
  },
  {
   "cell_type": "code",
   "execution_count": 35,
   "metadata": {},
   "outputs": [],
   "source": [
    "img_path=os.path.join('.','drug1.jpg')"
   ]
  },
  {
   "cell_type": "code",
   "execution_count": 36,
   "metadata": {},
   "outputs": [
    {
     "name": "stdout",
     "output_type": "stream",
     "text": [
      "[2024/01/25 20:49:50] ppocr WARNING: Since the angle classifier is not initialized, it will not be used during the forward process\n",
      "[2024/01/25 20:49:50] ppocr DEBUG: dt_boxes num : 6, elapsed : 0.13219213485717773\n",
      "[2024/01/25 20:49:51] ppocr DEBUG: rec_res num  : 6, elapsed : 0.7623918056488037\n"
     ]
    }
   ],
   "source": [
    "result=ocr_model.ocr(img_path)"
   ]
  },
  {
   "cell_type": "code",
   "execution_count": 37,
   "metadata": {},
   "outputs": [
    {
     "data": {
      "text/plain": [
       "[[[[[219.0, 199.0], [288.0, 202.0], [288.0, 216.0], [218.0, 214.0]],\n",
       "   ('50MCG TABLETS', 0.950020432472229)],\n",
       "  [[[217.0, 218.0], [337.0, 215.0], [338.0, 232.0], [218.0, 235.0]],\n",
       "   ('TAKE ONE TABLET BY', 0.9259033203125)],\n",
       "  [[[219.0, 232.0], [285.0, 234.0], [285.0, 249.0], [218.0, 246.0]],\n",
       "   ('EVERY DAY', 0.9418789744377136)],\n",
       "  [[[219.0, 257.0], [254.0, 260.0], [253.0, 274.0], [218.0, 272.0]],\n",
       "   ('QTY90', 0.9742363691329956)],\n",
       "  [[[218.0, 289.0], [293.0, 293.0], [292.0, 306.0], [217.0, 303.0]],\n",
       "   (' Fied12-01-2019', 0.7921862006187439)]]]"
      ]
     },
     "execution_count": 37,
     "metadata": {},
     "output_type": "execute_result"
    }
   ],
   "source": [
    "result"
   ]
  },
  {
   "cell_type": "code",
   "execution_count": 45,
   "metadata": {},
   "outputs": [
    {
     "name": "stdout",
     "output_type": "stream",
     "text": [
      "('50MCG TABLETS', 0.950020432472229)\n"
     ]
    }
   ],
   "source": [
    "for res in result:\n",
    "    print(res[0][1]) "
   ]
  },
  {
   "cell_type": "markdown",
   "metadata": {},
   "source": [
    "VISUALISING RESULTS"
   ]
  },
  {
   "cell_type": "code",
   "execution_count": 46,
   "metadata": {},
   "outputs": [],
   "source": [
    "# Extracting detected components\n",
    "boxes = [res[0] for res in result] # \n",
    "texts = [res[1][0] for res in result]\n",
    "scores = [res[1][1] for res in result]"
   ]
  },
  {
   "cell_type": "code",
   "execution_count": 47,
   "metadata": {},
   "outputs": [],
   "source": [
    "# Specifying font path for draw_ocr method\n",
    "font_path = os.path.join('fonts', 'latin.ttf')"
   ]
  },
  {
   "cell_type": "code",
   "execution_count": 42,
   "metadata": {},
   "outputs": [],
   "source": [
    "img=cv2.imread(img_path)\n",
    "img=cv2.cvtColor(img,cv2.COLOR_BGR2RGB)"
   ]
  },
  {
   "cell_type": "code",
   "execution_count": 43,
   "metadata": {},
   "outputs": [
    {
     "ename": "TypeError",
     "evalue": "'<' not supported between instances of 'tuple' and 'float'",
     "output_type": "error",
     "traceback": [
      "\u001b[0;31m---------------------------------------------------------------------------\u001b[0m",
      "\u001b[0;31mTypeError\u001b[0m                                 Traceback (most recent call last)",
      "\u001b[1;32m/Users/rohansridhar/Desktop/GOOGLE-Solution-Challenge-2024/notebook/data/paddleocr.ipynb Cell 14\u001b[0m line \u001b[0;36m7\n\u001b[1;32m      <a href='vscode-notebook-cell:/Users/rohansridhar/Desktop/GOOGLE-Solution-Challenge-2024/notebook/data/paddleocr.ipynb#X31sZmlsZQ%3D%3D?line=3'>4</a>\u001b[0m plt\u001b[39m.\u001b[39mfigure(figsize\u001b[39m=\u001b[39m(\u001b[39m15\u001b[39m,\u001b[39m15\u001b[39m))\n\u001b[1;32m      <a href='vscode-notebook-cell:/Users/rohansridhar/Desktop/GOOGLE-Solution-Challenge-2024/notebook/data/paddleocr.ipynb#X31sZmlsZQ%3D%3D?line=5'>6</a>\u001b[0m \u001b[39m# draw annotations on image\u001b[39;00m\n\u001b[0;32m----> <a href='vscode-notebook-cell:/Users/rohansridhar/Desktop/GOOGLE-Solution-Challenge-2024/notebook/data/paddleocr.ipynb#X31sZmlsZQ%3D%3D?line=6'>7</a>\u001b[0m annotated \u001b[39m=\u001b[39m draw_ocr(img, boxes, texts, scores, font_path\u001b[39m=\u001b[39;49mfont_path) \n\u001b[1;32m      <a href='vscode-notebook-cell:/Users/rohansridhar/Desktop/GOOGLE-Solution-Challenge-2024/notebook/data/paddleocr.ipynb#X31sZmlsZQ%3D%3D?line=8'>9</a>\u001b[0m \u001b[39m# show the image using matplotlib\u001b[39;00m\n\u001b[1;32m     <a href='vscode-notebook-cell:/Users/rohansridhar/Desktop/GOOGLE-Solution-Challenge-2024/notebook/data/paddleocr.ipynb#X31sZmlsZQ%3D%3D?line=9'>10</a>\u001b[0m plt\u001b[39m.\u001b[39mimshow(annotated) \n",
      "File \u001b[0;32m~/miniforge3/envs/google/lib/python3.8/site-packages/paddleocr/tools/infer/utility.py:387\u001b[0m, in \u001b[0;36mdraw_ocr\u001b[0;34m(image, boxes, txts, scores, drop_score, font_path)\u001b[0m\n\u001b[1;32m    385\u001b[0m box_num \u001b[39m=\u001b[39m \u001b[39mlen\u001b[39m(boxes)\n\u001b[1;32m    386\u001b[0m \u001b[39mfor\u001b[39;00m i \u001b[39min\u001b[39;00m \u001b[39mrange\u001b[39m(box_num):\n\u001b[0;32m--> 387\u001b[0m     \u001b[39mif\u001b[39;00m scores \u001b[39mis\u001b[39;00m \u001b[39mnot\u001b[39;00m \u001b[39mNone\u001b[39;00m \u001b[39mand\u001b[39;00m (scores[i] \u001b[39m<\u001b[39;49m drop_score \u001b[39mor\u001b[39;00m\n\u001b[1;32m    388\u001b[0m                                math\u001b[39m.\u001b[39misnan(scores[i])):\n\u001b[1;32m    389\u001b[0m         \u001b[39mcontinue\u001b[39;00m\n\u001b[1;32m    390\u001b[0m     box \u001b[39m=\u001b[39m np\u001b[39m.\u001b[39mreshape(np\u001b[39m.\u001b[39marray(boxes[i]), [\u001b[39m-\u001b[39m\u001b[39m1\u001b[39m, \u001b[39m1\u001b[39m, \u001b[39m2\u001b[39m])\u001b[39m.\u001b[39mastype(np\u001b[39m.\u001b[39mint64)\n",
      "\u001b[0;31mTypeError\u001b[0m: '<' not supported between instances of 'tuple' and 'float'"
     ]
    },
    {
     "data": {
      "text/plain": [
       "<Figure size 1500x1500 with 0 Axes>"
      ]
     },
     "metadata": {},
     "output_type": "display_data"
    }
   ],
   "source": [
    "# Visualize our image and detections\n",
    "# resizing display area\n",
    "import matplotlib.pyplot as plt \n",
    "plt.figure(figsize=(15,15))\n",
    "\n",
    "# draw annotations on image\n",
    "annotated = draw_ocr(img, boxes, texts, scores, font_path=font_path) \n",
    "\n",
    "# show the image using matplotlib\n",
    "plt.imshow(annotated) "
   ]
  },
  {
   "cell_type": "code",
   "execution_count": null,
   "metadata": {},
   "outputs": [],
   "source": []
  }
 ],
 "metadata": {
  "kernelspec": {
   "display_name": "google",
   "language": "python",
   "name": "python3"
  },
  "language_info": {
   "codemirror_mode": {
    "name": "ipython",
    "version": 3
   },
   "file_extension": ".py",
   "mimetype": "text/x-python",
   "name": "python",
   "nbconvert_exporter": "python",
   "pygments_lexer": "ipython3",
   "version": "3.8.18"
  }
 },
 "nbformat": 4,
 "nbformat_minor": 2
}
