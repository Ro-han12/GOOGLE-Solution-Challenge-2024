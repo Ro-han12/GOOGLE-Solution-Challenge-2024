{
 "cells": [
  {
   "cell_type": "code",
   "execution_count": 26,
   "metadata": {},
   "outputs": [
    {
     "name": "stdout",
     "output_type": "stream",
     "text": [
      "Requirement already satisfied: paddlepaddle in /Users/rohansridhar/miniforge3/envs/google/lib/python3.8/site-packages (2.6.0)\n",
      "Requirement already satisfied: httpx in /Users/rohansridhar/miniforge3/envs/google/lib/python3.8/site-packages (from paddlepaddle) (0.26.0)\n",
      "Requirement already satisfied: numpy>=1.13 in /Users/rohansridhar/miniforge3/envs/google/lib/python3.8/site-packages (from paddlepaddle) (1.24.3)\n",
      "Requirement already satisfied: Pillow in /Users/rohansridhar/miniforge3/envs/google/lib/python3.8/site-packages (from paddlepaddle) (10.2.0)\n",
      "Requirement already satisfied: decorator in /Users/rohansridhar/miniforge3/envs/google/lib/python3.8/site-packages (from paddlepaddle) (5.1.1)\n",
      "Requirement already satisfied: astor in /Users/rohansridhar/miniforge3/envs/google/lib/python3.8/site-packages (from paddlepaddle) (0.8.1)\n",
      "Requirement already satisfied: opt-einsum==3.3.0 in /Users/rohansridhar/miniforge3/envs/google/lib/python3.8/site-packages (from paddlepaddle) (3.3.0)\n",
      "Requirement already satisfied: protobuf>=3.20.2 in /Users/rohansridhar/miniforge3/envs/google/lib/python3.8/site-packages (from paddlepaddle) (4.25.2)\n",
      "Requirement already satisfied: anyio in /Users/rohansridhar/miniforge3/envs/google/lib/python3.8/site-packages (from httpx->paddlepaddle) (4.2.0)\n",
      "Requirement already satisfied: certifi in /Users/rohansridhar/miniforge3/envs/google/lib/python3.8/site-packages (from httpx->paddlepaddle) (2023.11.17)\n",
      "Requirement already satisfied: httpcore==1.* in /Users/rohansridhar/miniforge3/envs/google/lib/python3.8/site-packages (from httpx->paddlepaddle) (1.0.2)\n",
      "Requirement already satisfied: idna in /Users/rohansridhar/miniforge3/envs/google/lib/python3.8/site-packages (from httpx->paddlepaddle) (3.6)\n",
      "Requirement already satisfied: sniffio in /Users/rohansridhar/miniforge3/envs/google/lib/python3.8/site-packages (from httpx->paddlepaddle) (1.3.0)\n",
      "Requirement already satisfied: h11<0.15,>=0.13 in /Users/rohansridhar/miniforge3/envs/google/lib/python3.8/site-packages (from httpcore==1.*->httpx->paddlepaddle) (0.14.0)\n",
      "Requirement already satisfied: exceptiongroup>=1.0.2 in /Users/rohansridhar/miniforge3/envs/google/lib/python3.8/site-packages (from anyio->httpx->paddlepaddle) (1.2.0)\n",
      "Requirement already satisfied: typing-extensions>=4.1 in /Users/rohansridhar/miniforge3/envs/google/lib/python3.8/site-packages (from anyio->httpx->paddlepaddle) (4.5.0)\n"
     ]
    }
   ],
   "source": [
    "!python -m pip install paddlepaddle "
   ]
  },
  {
   "cell_type": "code",
   "execution_count": 27,
   "metadata": {},
   "outputs": [],
   "source": [
    "# !pip install --upgrade paddle paddleocr\n"
   ]
  },
  {
   "cell_type": "code",
   "execution_count": 28,
   "metadata": {},
   "outputs": [],
   "source": [
    "import paddleocr\n",
    "from paddleocr import PaddleOCR,draw_ocr #main ocr dependencies\n",
    "import cv2 \n",
    "import os\n",
    "\n"
   ]
  },
  {
   "cell_type": "code",
   "execution_count": 29,
   "metadata": {},
   "outputs": [
    {
     "name": "stdout",
     "output_type": "stream",
     "text": [
      "[2024/01/25 18:21:08] ppocr DEBUG: Namespace(alpha=1.0, alphacolor=(255, 255, 255), benchmark=False, beta=1.0, binarize=False, cls_batch_num=6, cls_image_shape='3, 48, 192', cls_model_dir='/Users/rohansridhar/.paddleocr/whl/cls/ch_ppocr_mobile_v2.0_cls_infer', cls_thresh=0.9, cpu_threads=10, crop_res_save_dir='./output', det=True, det_algorithm='DB', det_box_type='quad', det_db_box_thresh=0.6, det_db_score_mode='fast', det_db_thresh=0.3, det_db_unclip_ratio=1.5, det_east_cover_thresh=0.1, det_east_nms_thresh=0.2, det_east_score_thresh=0.8, det_limit_side_len=960, det_limit_type='max', det_model_dir='/Users/rohansridhar/.paddleocr/whl/det/en/en_PP-OCRv3_det_infer', det_pse_box_thresh=0.85, det_pse_min_area=16, det_pse_scale=1, det_pse_thresh=0, det_sast_nms_thresh=0.2, det_sast_score_thresh=0.5, draw_img_save_dir='./inference_results', drop_score=0.5, e2e_algorithm='PGNet', e2e_char_dict_path='./ppocr/utils/ic15_dict.txt', e2e_limit_side_len=768, e2e_limit_type='max', e2e_model_dir=None, e2e_pgnet_mode='fast', e2e_pgnet_score_thresh=0.5, e2e_pgnet_valid_set='totaltext', enable_mkldnn=False, fourier_degree=5, gpu_id=0, gpu_mem=500, help='==SUPPRESS==', image_dir=None, image_orientation=False, invert=False, ir_optim=True, kie_algorithm='LayoutXLM', label_list=['0', '180'], lang='en', layout=True, layout_dict_path=None, layout_model_dir=None, layout_nms_threshold=0.5, layout_score_threshold=0.5, max_batch_size=10, max_text_length=25, merge_no_span_structure=True, min_subgraph_size=15, mode='structure', ocr=True, ocr_order_method=None, ocr_version='PP-OCRv4', output='./output', page_num=0, precision='fp32', process_id=0, re_model_dir=None, rec=True, rec_algorithm='SVTR_LCNet', rec_batch_num=6, rec_char_dict_path='/Users/rohansridhar/miniforge3/envs/google/lib/python3.8/site-packages/paddleocr/ppocr/utils/en_dict.txt', rec_image_inverse=True, rec_image_shape='3, 48, 320', rec_model_dir='/Users/rohansridhar/.paddleocr/whl/rec/en/en_PP-OCRv4_rec_infer', recovery=False, save_crop_res=False, save_log_path='./log_output/', scales=[8, 16, 32], ser_dict_path='../train_data/XFUND/class_list_xfun.txt', ser_model_dir=None, show_log=True, sr_batch_num=1, sr_image_shape='3, 32, 128', sr_model_dir=None, structure_version='PP-StructureV2', table=True, table_algorithm='TableAttn', table_char_dict_path=None, table_max_len=488, table_model_dir=None, total_process_num=1, type='ocr', use_angle_cls=False, use_dilation=False, use_gpu=False, use_mp=False, use_npu=False, use_onnx=False, use_pdf2docx_api=False, use_pdserving=False, use_space_char=True, use_tensorrt=False, use_visual_backbone=True, use_xpu=False, vis_font_path='./doc/fonts/simfang.ttf', warmup=False)\n"
     ]
    }
   ],
   "source": [
    "ocr_model=PaddleOCR(lang='en') #instantiate model "
   ]
  },
  {
   "cell_type": "code",
   "execution_count": 30,
   "metadata": {},
   "outputs": [],
   "source": [
    "img_path=os.path.join('.','drug.jpeg')"
   ]
  },
  {
   "cell_type": "code",
   "execution_count": 31,
   "metadata": {},
   "outputs": [
    {
     "name": "stdout",
     "output_type": "stream",
     "text": [
      "[2024/01/25 18:21:09] ppocr WARNING: Since the angle classifier is not initialized, it will not be used during the forward process\n",
      "[2024/01/25 18:21:10] ppocr DEBUG: dt_boxes num : 14, elapsed : 0.6076719760894775\n",
      "[2024/01/25 18:21:12] ppocr DEBUG: rec_res num  : 14, elapsed : 2.077301025390625\n"
     ]
    }
   ],
   "source": [
    "result=ocr_model.ocr(img_path)"
   ]
  },
  {
   "cell_type": "code",
   "execution_count": 32,
   "metadata": {},
   "outputs": [
    {
     "data": {
      "text/plain": [
       "[[[[[1250.0, 125.0], [1759.0, 125.0], [1759.0, 291.0], [1250.0, 291.0]],\n",
       "   ('DayQuil', 0.9777945876121521)],\n",
       "  [[[1331.0, 897.0], [1684.0, 897.0], [1684.0, 972.0], [1331.0, 972.0]],\n",
       "   ('VICKS', 0.9016798138618469)],\n",
       "  [[[1412.0, 1181.0], [1587.0, 1181.0], [1587.0, 1234.0], [1412.0, 1234.0]],\n",
       "   ('VICKS', 0.9791448712348938)],\n",
       "  [[[1112.0, 1404.0], [1873.0, 1396.0], [1876.0, 1618.0], [1114.0, 1626.0]],\n",
       "   ('DayQui!', 0.9642947912216187)],\n",
       "  [[[1259.0, 1797.0], [1734.0, 1797.0], [1734.0, 1862.0], [1259.0, 1862.0]],\n",
       "   ('COLD & FLU', 0.9579935073852539)],\n",
       "  [[[1157.0, 1918.0], [1832.0, 1928.0], [1831.0, 1982.0], [1156.0, 1972.0]],\n",
       "   ('Acetaminophen, Phenylephrine HCI,', 0.9777390360832214)],\n",
       "  [[[1153.0, 1975.0], [1506.0, 1978.0], [1506.0, 2019.0], [1153.0, 2016.0]],\n",
       "   ('Dextromethorphan HBr', 0.9843659400939941)],\n",
       "  [[[1154.0, 2178.0], [1763.0, 2185.0], [1762.0, 2238.0], [1153.0, 2231.0]],\n",
       "   ('Headache, Fever, Sore Throat,', 0.9996758699417114)],\n",
       "  [[[1151.0, 2240.0], [1582.0, 2247.0], [1581.0, 2300.0], [1150.0, 2293.0]],\n",
       "   ('Minor Aches & Pains', 0.9922532439231873)],\n",
       "  [[[1154.0, 2328.0], [1526.0, 2338.0], [1524.0, 2391.0], [1153.0, 2381.0]],\n",
       "   ('Nasal Congestion,', 0.9761838316917419)],\n",
       "  [[[1151.0, 2390.0], [1466.0, 2401.0], [1464.0, 2454.0], [1149.0, 2443.0]],\n",
       "   ('Sinus Pressure', 0.9971041679382324)],\n",
       "  [[[1153.0, 2474.0], [1285.0, 2482.0], [1282.0, 2542.0], [1149.0, 2533.0]],\n",
       "   ('Cough', 0.9997329711914062)],\n",
       "  [[[1707.0, 2544.0], [1898.0, 2535.0], [1908.0, 2756.0], [1718.0, 2765.0]],\n",
       "   ('12', 0.9995293617248535)],\n",
       "  [[[1734.0, 2756.0], [1875.0, 2756.0], [1875.0, 2828.0], [1734.0, 2828.0]],\n",
       "   ('FL OZ', 0.9827030897140503)]]]"
      ]
     },
     "execution_count": 32,
     "metadata": {},
     "output_type": "execute_result"
    }
   ],
   "source": [
    "result"
   ]
  },
  {
   "cell_type": "code",
   "execution_count": 33,
   "metadata": {},
   "outputs": [
    {
     "data": {
      "text/plain": [
       "[[[1250.0, 125.0], [1759.0, 125.0], [1759.0, 291.0], [1250.0, 291.0]],\n",
       " ('DayQuil', 0.9777945876121521)]"
      ]
     },
     "execution_count": 33,
     "metadata": {},
     "output_type": "execute_result"
    }
   ],
   "source": [
    "result[0][0] #box coords"
   ]
  },
  {
   "cell_type": "code",
   "execution_count": 56,
   "metadata": {},
   "outputs": [
    {
     "data": {
      "text/plain": [
       "'DayQuil'"
      ]
     },
     "execution_count": 56,
     "metadata": {},
     "output_type": "execute_result"
    }
   ],
   "source": [
    "result[0][0][1][0]"
   ]
  },
  {
   "cell_type": "code",
   "execution_count": 66,
   "metadata": {},
   "outputs": [
    {
     "name": "stdout",
     "output_type": "stream",
     "text": [
      "('DayQuil', 0.9777945876121521)\n"
     ]
    }
   ],
   "source": [
    "for res in result:\n",
    "    print(res[0][1])"
   ]
  },
  {
   "cell_type": "code",
   "execution_count": 69,
   "metadata": {},
   "outputs": [
    {
     "data": {
      "text/plain": [
       "[[[1331.0, 897.0], [1684.0, 897.0], [1684.0, 972.0], [1331.0, 972.0]]]"
      ]
     },
     "execution_count": 69,
     "metadata": {},
     "output_type": "execute_result"
    }
   ],
   "source": [
    "[res[1][0] for res in result]"
   ]
  }
 ],
 "metadata": {
  "kernelspec": {
   "display_name": "google",
   "language": "python",
   "name": "python3"
  },
  "language_info": {
   "codemirror_mode": {
    "name": "ipython",
    "version": 3
   },
   "file_extension": ".py",
   "mimetype": "text/x-python",
   "name": "python",
   "nbconvert_exporter": "python",
   "pygments_lexer": "ipython3",
   "version": "3.8.18"
  }
 },
 "nbformat": 4,
 "nbformat_minor": 2
}
